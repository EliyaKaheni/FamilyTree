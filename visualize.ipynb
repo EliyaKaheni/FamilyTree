{
 "cells": [
  {
   "cell_type": "code",
   "execution_count": 2,
   "metadata": {},
   "outputs": [
    {
     "name": "stdout",
     "output_type": "stream",
     "text": [
      "Loaded JSON data:\n",
      "{'ali': ['akbar', 'mariya'], 'ahmad': ['naser', 'mahsa'], 'armita': ['ehsan', 'lale'], 'narges': ['ebrahim', 'ladan'], 'amir': ['ali', 'narges'], 'arash': ['ebrahim', 'ladan'], 'ala': ['ali', 'narges']}\n"
     ]
    },
    {
     "ename": "TypeError",
     "evalue": "'_AxesStack' object is not callable",
     "output_type": "error",
     "traceback": [
      "\u001b[0;31m---------------------------------------------------------------------------\u001b[0m",
      "\u001b[0;31mTypeError\u001b[0m                                 Traceback (most recent call last)",
      "Cell \u001b[0;32mIn[2], line 27\u001b[0m\n\u001b[1;32m     23\u001b[0m     nx\u001b[39m.\u001b[39mdraw(G, pos, with_labels\u001b[39m=\u001b[39m\u001b[39mTrue\u001b[39;00m, node_size\u001b[39m=\u001b[39m\u001b[39m700\u001b[39m, node_color\u001b[39m=\u001b[39m\u001b[39m'\u001b[39m\u001b[39mpink\u001b[39m\u001b[39m'\u001b[39m, font_size\u001b[39m=\u001b[39m\u001b[39m10\u001b[39m, font_color\u001b[39m=\u001b[39m\u001b[39m'\u001b[39m\u001b[39mblack\u001b[39m\u001b[39m'\u001b[39m, font_weight\u001b[39m=\u001b[39m\u001b[39m'\u001b[39m\u001b[39mbold\u001b[39m\u001b[39m'\u001b[39m, edge_color\u001b[39m=\u001b[39m\u001b[39m'\u001b[39m\u001b[39mgray\u001b[39m\u001b[39m'\u001b[39m, linewidths\u001b[39m=\u001b[39m\u001b[39m1\u001b[39m, arrowsize\u001b[39m=\u001b[39m\u001b[39m20\u001b[39m)\n\u001b[1;32m     25\u001b[0m     plt\u001b[39m.\u001b[39mshow()\n\u001b[0;32m---> 27\u001b[0m draw_tree(my_dict)\n",
      "Cell \u001b[0;32mIn[2], line 23\u001b[0m, in \u001b[0;36mdraw_tree\u001b[0;34m(my_dict)\u001b[0m\n\u001b[1;32m     21\u001b[0m \u001b[39m# Plot the graph.\u001b[39;00m\n\u001b[1;32m     22\u001b[0m pos \u001b[39m=\u001b[39m nx\u001b[39m.\u001b[39mspring_layout(G)\n\u001b[0;32m---> 23\u001b[0m nx\u001b[39m.\u001b[39mdraw(G, pos, with_labels\u001b[39m=\u001b[39m\u001b[39mTrue\u001b[39;00m, node_size\u001b[39m=\u001b[39m\u001b[39m700\u001b[39m, node_color\u001b[39m=\u001b[39m\u001b[39m'\u001b[39m\u001b[39mpink\u001b[39m\u001b[39m'\u001b[39m, font_size\u001b[39m=\u001b[39m\u001b[39m10\u001b[39m, font_color\u001b[39m=\u001b[39m\u001b[39m'\u001b[39m\u001b[39mblack\u001b[39m\u001b[39m'\u001b[39m, font_weight\u001b[39m=\u001b[39m\u001b[39m'\u001b[39m\u001b[39mbold\u001b[39m\u001b[39m'\u001b[39m, edge_color\u001b[39m=\u001b[39m\u001b[39m'\u001b[39m\u001b[39mgray\u001b[39m\u001b[39m'\u001b[39m, linewidths\u001b[39m=\u001b[39m\u001b[39m1\u001b[39m, arrowsize\u001b[39m=\u001b[39m\u001b[39m20\u001b[39m)\n\u001b[1;32m     25\u001b[0m plt\u001b[39m.\u001b[39mshow()\n",
      "File \u001b[0;32m~/anaconda3/lib/python3.11/site-packages/networkx/drawing/nx_pylab.py:113\u001b[0m, in \u001b[0;36mdraw\u001b[0;34m(G, pos, ax, **kwds)\u001b[0m\n\u001b[1;32m    111\u001b[0m cf\u001b[39m.\u001b[39mset_facecolor(\u001b[39m\"\u001b[39m\u001b[39mw\u001b[39m\u001b[39m\"\u001b[39m)\n\u001b[1;32m    112\u001b[0m \u001b[39mif\u001b[39;00m ax \u001b[39mis\u001b[39;00m \u001b[39mNone\u001b[39;00m:\n\u001b[0;32m--> 113\u001b[0m     \u001b[39mif\u001b[39;00m cf\u001b[39m.\u001b[39m_axstack() \u001b[39mis\u001b[39;00m \u001b[39mNone\u001b[39;00m:\n\u001b[1;32m    114\u001b[0m         ax \u001b[39m=\u001b[39m cf\u001b[39m.\u001b[39madd_axes((\u001b[39m0\u001b[39m, \u001b[39m0\u001b[39m, \u001b[39m1\u001b[39m, \u001b[39m1\u001b[39m))\n\u001b[1;32m    115\u001b[0m     \u001b[39melse\u001b[39;00m:\n",
      "\u001b[0;31mTypeError\u001b[0m: '_AxesStack' object is not callable"
     ]
    },
    {
     "data": {
      "text/plain": [
       "<Figure size 640x480 with 0 Axes>"
      ]
     },
     "metadata": {},
     "output_type": "display_data"
    }
   ],
   "source": [
    "import matplotlib.pyplot as plt\n",
    "import networkx as nx\n",
    "import json\n",
    "\n",
    "def json_to_dict(json_file_path):\n",
    "    with open(json_file_path, 'r') as file:\n",
    "        data = json.load(file)\n",
    "    return data\n",
    "\n",
    "# Example usage:\n",
    "json_file_path = 'familyData.json'\n",
    "my_dict = json_to_dict(json_file_path)\n",
    "\n",
    "print(\"Loaded JSON data:\")\n",
    "print(my_dict)\n",
    "\n",
    "def draw_tree(my_dict):\n",
    "    # Create a directed graph from the dictionary.\n",
    "    G = nx.from_dict_of_lists(my_dict, create_using=nx.DiGraph)\n",
    "\n",
    "    # Plot the graph.\n",
    "    pos = nx.spring_layout(G)\n",
    "    nx.draw(G, pos, with_labels=True, node_size=700, node_color='pink', font_size=10, font_color='black', font_weight='bold', edge_color='gray', linewidths=1, arrowsize=20)\n",
    "    \n",
    "    plt.show()\n",
    "\n",
    "draw_tree(my_dict)  # replace with your FamilyTree instance.\n"
   ]
  }
 ],
 "metadata": {
  "kernelspec": {
   "display_name": "base",
   "language": "python",
   "name": "python3"
  },
  "language_info": {
   "codemirror_mode": {
    "name": "ipython",
    "version": 3
   },
   "file_extension": ".py",
   "mimetype": "text/x-python",
   "name": "python",
   "nbconvert_exporter": "python",
   "pygments_lexer": "ipython3",
   "version": "3.11.3"
  },
  "orig_nbformat": 4
 },
 "nbformat": 4,
 "nbformat_minor": 2
}
